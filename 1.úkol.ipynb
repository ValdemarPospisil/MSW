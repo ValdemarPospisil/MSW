{
 "cells": [
  {
   "cell_type": "markdown",
   "metadata": {},
   "source": [
    "Skalární součin vektorů:"
   ]
  },
  {
   "cell_type": "code",
   "execution_count": 5,
   "metadata": {},
   "outputs": [
    {
     "name": "stdout",
     "output_type": "stream",
     "text": [
      "Výsledek v čistém Pythonu: 833323333350000 Čas: 0.03024458885192871\n"
     ]
    }
   ],
   "source": [
    "# Čistý Python\n",
    "import time\n",
    "\n",
    "def skalarni_soucin_cisty_python(v1, v2):\n",
    "    return sum(x * y for x, y in zip(v1, v2))\n",
    "\n",
    "# Vektory\n",
    "vektor1 = [i for i in range(100000)]\n",
    "vektor2 = [i for i in range(100000, 200000)]\n",
    "\n",
    "zacatek_casu = time.time()\n",
    "vysledek = skalarni_soucin_cisty_python(vektor1, vektor2)\n",
    "konec_casu = time.time()\n",
    "\n",
    "print(\"Výsledek v čistém Pythonu:\", vysledek, \"Čas:\", konec_casu - zacatek_casu)\n"
   ]
  },
  {
   "cell_type": "code",
   "execution_count": 6,
   "metadata": {},
   "outputs": [
    {
     "name": "stdout",
     "output_type": "stream",
     "text": [
      "Numpy výsledek: 833323333350000 Čas: 0.0009391307830810547\n"
     ]
    }
   ],
   "source": [
    "# Numpy\n",
    "import numpy as np\n",
    "import time\n",
    "\n",
    "vektor1_np = np.array(vektor1)\n",
    "vektor2_np = np.array(vektor2)\n",
    "\n",
    "zacatek_casu = time.time()\n",
    "vysledek_np = np.dot(vektor1_np, vektor2_np)\n",
    "konec_casu = time.time()\n",
    "\n",
    "print(\"Numpy výsledek:\", vysledek_np, \"Čas:\", konec_casu - zacatek_casu)\n"
   ]
  },
  {
   "cell_type": "code",
   "execution_count": 8,
   "metadata": {},
   "outputs": [
    {
     "ename": "UnsupportedError",
     "evalue": "Failed in nopython mode pipeline (step: inline calls to locally defined closures)\n\u001b[1mThe use of yield in a closure is unsupported.\n\u001b[1m\nFile \"../../../../../../tmp/ipykernel_12421/3847269287.py\", line 7:\u001b[0m\n\u001b[1m<source missing, REPL/exec in use?>\u001b[0m\n\u001b[0m",
     "output_type": "error",
     "traceback": [
      "\u001b[0;31m---------------------------------------------------------------------------\u001b[0m",
      "\u001b[0;31mUnsupportedError\u001b[0m                          Traceback (most recent call last)",
      "Cell \u001b[0;32mIn[8], line 10\u001b[0m\n\u001b[1;32m      7\u001b[0m     \u001b[38;5;28;01mreturn\u001b[39;00m \u001b[38;5;28msum\u001b[39m(x \u001b[38;5;241m*\u001b[39m y \u001b[38;5;28;01mfor\u001b[39;00m x, y \u001b[38;5;129;01min\u001b[39;00m \u001b[38;5;28mzip\u001b[39m(v1, v2))\n\u001b[1;32m      9\u001b[0m zacatek_casu \u001b[38;5;241m=\u001b[39m time\u001b[38;5;241m.\u001b[39mtime()\n\u001b[0;32m---> 10\u001b[0m vysledek_numba \u001b[38;5;241m=\u001b[39m \u001b[43mskalarni_soucin_numba\u001b[49m\u001b[43m(\u001b[49m\u001b[43mvektor1\u001b[49m\u001b[43m,\u001b[49m\u001b[43m \u001b[49m\u001b[43mvektor2\u001b[49m\u001b[43m)\u001b[49m\n\u001b[1;32m     11\u001b[0m konec_casu \u001b[38;5;241m=\u001b[39m time\u001b[38;5;241m.\u001b[39mtime()\n\u001b[1;32m     13\u001b[0m \u001b[38;5;28mprint\u001b[39m(\u001b[38;5;124m\"\u001b[39m\u001b[38;5;124mNumba výsledek:\u001b[39m\u001b[38;5;124m\"\u001b[39m, vysledek_numba, \u001b[38;5;124m\"\u001b[39m\u001b[38;5;124mČas:\u001b[39m\u001b[38;5;124m\"\u001b[39m, konec_casu \u001b[38;5;241m-\u001b[39m zacatek_casu)\n",
      "File \u001b[0;32m~/.local/lib/python3.10/site-packages/numba/core/dispatcher.py:471\u001b[0m, in \u001b[0;36m_DispatcherBase._compile_for_args\u001b[0;34m(self, *args, **kws)\u001b[0m\n\u001b[1;32m    468\u001b[0m     error_rewrite(e, \u001b[38;5;124m'\u001b[39m\u001b[38;5;124mtyping\u001b[39m\u001b[38;5;124m'\u001b[39m)\n\u001b[1;32m    469\u001b[0m \u001b[38;5;28;01mexcept\u001b[39;00m errors\u001b[38;5;241m.\u001b[39mUnsupportedError \u001b[38;5;28;01mas\u001b[39;00m e:\n\u001b[1;32m    470\u001b[0m     \u001b[38;5;66;03m# Something unsupported is present in the user code, add help info\u001b[39;00m\n\u001b[0;32m--> 471\u001b[0m     \u001b[43merror_rewrite\u001b[49m\u001b[43m(\u001b[49m\u001b[43me\u001b[49m\u001b[43m,\u001b[49m\u001b[43m \u001b[49m\u001b[38;5;124;43m'\u001b[39;49m\u001b[38;5;124;43munsupported_error\u001b[39;49m\u001b[38;5;124;43m'\u001b[39;49m\u001b[43m)\u001b[49m\n\u001b[1;32m    472\u001b[0m \u001b[38;5;28;01mexcept\u001b[39;00m (errors\u001b[38;5;241m.\u001b[39mNotDefinedError, errors\u001b[38;5;241m.\u001b[39mRedefinedError,\n\u001b[1;32m    473\u001b[0m         errors\u001b[38;5;241m.\u001b[39mVerificationError) \u001b[38;5;28;01mas\u001b[39;00m e:\n\u001b[1;32m    474\u001b[0m     \u001b[38;5;66;03m# These errors are probably from an issue with either the code\u001b[39;00m\n\u001b[1;32m    475\u001b[0m     \u001b[38;5;66;03m# supplied being syntactically or otherwise invalid\u001b[39;00m\n\u001b[1;32m    476\u001b[0m     error_rewrite(e, \u001b[38;5;124m'\u001b[39m\u001b[38;5;124minterpreter\u001b[39m\u001b[38;5;124m'\u001b[39m)\n",
      "File \u001b[0;32m~/.local/lib/python3.10/site-packages/numba/core/dispatcher.py:409\u001b[0m, in \u001b[0;36m_DispatcherBase._compile_for_args.<locals>.error_rewrite\u001b[0;34m(e, issue_type)\u001b[0m\n\u001b[1;32m    407\u001b[0m     \u001b[38;5;28;01mraise\u001b[39;00m e\n\u001b[1;32m    408\u001b[0m \u001b[38;5;28;01melse\u001b[39;00m:\n\u001b[0;32m--> 409\u001b[0m     \u001b[38;5;28;01mraise\u001b[39;00m e\u001b[38;5;241m.\u001b[39mwith_traceback(\u001b[38;5;28;01mNone\u001b[39;00m)\n",
      "\u001b[0;31mUnsupportedError\u001b[0m: Failed in nopython mode pipeline (step: inline calls to locally defined closures)\n\u001b[1mThe use of yield in a closure is unsupported.\n\u001b[1m\nFile \"../../../../../../tmp/ipykernel_12421/3847269287.py\", line 7:\u001b[0m\n\u001b[1m<source missing, REPL/exec in use?>\u001b[0m\n\u001b[0m"
     ]
    }
   ],
   "source": [
    "# Numba\n",
    "from numba import jit\n",
    "import time\n",
    "\n",
    "@jit(nopython=True)\n",
    "def skalarni_soucin_numba(v1, v2):\n",
    "    return sum(x * y for x, y in zip(v1, v2))\n",
    "\n",
    "zacatek_casu = time.time()\n",
    "vysledek_numba = skalarni_soucin_numba(vektor1, vektor2)\n",
    "konec_casu = time.time()\n",
    "\n",
    "print(\"Numba výsledek:\", vysledek_numba, \"Čas:\", konec_casu - zacatek_casu)\n"
   ]
  },
  {
   "cell_type": "markdown",
   "metadata": {},
   "source": [
    "Numerický výpočet integrálu"
   ]
  },
  {
   "cell_type": "code",
   "execution_count": 9,
   "metadata": {},
   "outputs": [
    {
     "name": "stdout",
     "output_type": "stream",
     "text": [
      "Čistý Python výsledek: 0.3333333333499996 Čas: 0.07798600196838379\n"
     ]
    }
   ],
   "source": [
    "import time\n",
    "\n",
    "def lichobeznikova_metoda(f, a, b, n):\n",
    "    dx = (b - a) / n\n",
    "    total = 0.5 * (f(a) + f(b))\n",
    "    for i in range(1, n):\n",
    "        total += f(a + i * dx)\n",
    "    return total * dx\n",
    "\n",
    "# Integrovaná funkce\n",
    "def funkce(x):\n",
    "    return x**2\n",
    "\n",
    "# Meze integrace a počet dílků\n",
    "a = 0\n",
    "b = 1\n",
    "n = 100000\n",
    "\n",
    "zacatek_casu = time.time()\n",
    "vysledek = lichobeznikova_metoda(funkce, a, b, n)\n",
    "konec_casu = time.time()\n",
    "\n",
    "print(\"Čistý Python výsledek:\", vysledek, \"Čas:\", konec_casu - zacatek_casu)\n"
   ]
  },
  {
   "cell_type": "code",
   "execution_count": 10,
   "metadata": {},
   "outputs": [
    {
     "name": "stdout",
     "output_type": "stream",
     "text": [
      "Numpy výsledek: 0.3333333333500003 Čas: 0.9418416023254395\n"
     ]
    }
   ],
   "source": [
    "import numpy as np\n",
    "import time\n",
    "\n",
    "# Integrovaná funkce\n",
    "def funkce(x):\n",
    "    return x**2\n",
    "\n",
    "# Meze integrace\n",
    "a = 0\n",
    "b = 1\n",
    "n = 100000\n",
    "\n",
    "# Vytvoření rovnoměrně rozložených bodů\n",
    "x = np.linspace(a, b, n)\n",
    "y = funkce(x)\n",
    "\n",
    "zacatek_casu = time.time()\n",
    "vysledek_numpy = np.trapz(y, x)\n",
    "konec_casu = time.time()\n",
    "\n",
    "print(\"Numpy výsledek:\", vysledek_numpy, \"Čas:\", konec_casu - zacatek_casu)\n"
   ]
  },
  {
   "cell_type": "code",
   "execution_count": 11,
   "metadata": {},
   "outputs": [
    {
     "name": "stdout",
     "output_type": "stream",
     "text": [
      "Scipy výsledek: 0.33333333333333337 Čas: 0.00036072731018066406\n"
     ]
    }
   ],
   "source": [
    "import scipy.integrate\n",
    "import time\n",
    "\n",
    "zacatek_casu = time.time()\n",
    "vysledek_scipy, _ = scipy.integrate.quad(funkce, a, b)\n",
    "konec_casu = time.time()\n",
    "\n",
    "print(\"Scipy výsledek:\", vysledek_scipy, \"Čas:\", konec_casu - zacatek_casu)\n"
   ]
  },
  {
   "cell_type": "markdown",
   "metadata": {},
   "source": [
    "Řešení soustavy lineárních rovnic"
   ]
  },
  {
   "cell_type": "code",
   "execution_count": 13,
   "metadata": {},
   "outputs": [
    {
     "name": "stdout",
     "output_type": "stream",
     "text": [
      "Čistý Python výsledek: [2.0, 3.0, -1.0] Čas: 0.0004100799560546875\n"
     ]
    }
   ],
   "source": [
    "import time\n",
    "\n",
    "def lu_dekompozice(A):\n",
    "    n = len(A)\n",
    "    L = [[0.0] * n for i in range(n)]\n",
    "    U = [[0.0] * n for i in range(n)]\n",
    "\n",
    "    for i in range(n):\n",
    "        for j in range(i, n):  # Výpočet U\n",
    "            suma = sum(L[i][k] * U[k][j] for k in range(i))\n",
    "            U[i][j] = A[i][j] - suma\n",
    "\n",
    "        for j in range(i, n):  # Výpočet L\n",
    "            if i == j:\n",
    "                L[i][i] = 1\n",
    "            else:\n",
    "                suma = sum(L[j][k] * U[k][i] for k in range(i))\n",
    "                L[j][i] = (A[j][i] - suma) / U[i][i]\n",
    "\n",
    "    return (L, U)\n",
    "\n",
    "def lu_reseni(L, U, b):\n",
    "    n = len(L)\n",
    "    y = [0 for i in range(n)]\n",
    "    x = [0 for i in range(n)]\n",
    "\n",
    "    # Dopředná substituce pro výpočet y\n",
    "    for i in range(n):\n",
    "        suma = sum(L[i][j] * y[j] for j in range(i))\n",
    "        y[i] = b[i] - suma\n",
    "\n",
    "    # Zpětná substituce pro výpočet x\n",
    "    for i in range(n-1, -1, -1):\n",
    "        suma = sum(U[i][j] * x[j] for j in range(i+1, n))\n",
    "        x[i] = (y[i] - suma) / U[i][i]\n",
    "\n",
    "    return x\n",
    "\n",
    "# Matice a vektor\n",
    "A = [[2, 1, -1], [-3, -1, 2], [-2, 1, 2]]\n",
    "b = [8, -11, -3]\n",
    "\n",
    "zacatek_casu = time.time()\n",
    "L, U = lu_dekompozice(A)\n",
    "vysledek = lu_reseni(L, U, b)\n",
    "konec_casu = time.time()\n",
    "\n",
    "print(\"Čistý Python výsledek:\", vysledek, \"Čas:\", konec_casu - zacatek_casu)\n"
   ]
  },
  {
   "cell_type": "code",
   "execution_count": 14,
   "metadata": {},
   "outputs": [
    {
     "name": "stdout",
     "output_type": "stream",
     "text": [
      "Numpy výsledek: [ 2.  3. -1.] Čas: 0.5337960720062256\n"
     ]
    }
   ],
   "source": [
    "import numpy as np\n",
    "import time\n",
    "\n",
    "# Matice A a vektor b\n",
    "A = np.array([[2, 1, -1], [-3, -1, 2], [-2, 1, 2]])\n",
    "b = np.array([8, -11, -3])\n",
    "\n",
    "zacatek_casu = time.time()\n",
    "vysledek_np = np.linalg.solve(A, b)\n",
    "konec_casu = time.time()\n",
    "\n",
    "print(\"Numpy výsledek:\", vysledek_np, \"Čas:\", konec_casu - zacatek_casu)\n"
   ]
  },
  {
   "cell_type": "markdown",
   "metadata": {},
   "source": [
    "Výpočet vlastních čísel matice"
   ]
  },
  {
   "cell_type": "code",
   "execution_count": 15,
   "metadata": {},
   "outputs": [
    {
     "name": "stdout",
     "output_type": "stream",
     "text": [
      "Čistý Python vlastní číslo: 1.0 Čas: 0.012183904647827148\n"
     ]
    }
   ],
   "source": [
    "import time\n",
    "\n",
    "def power_iteration(A, num_simulations: int):\n",
    "    n = len(A)\n",
    "    b_k = [1] * n  # Předpokladáme počáteční vektor\n",
    "\n",
    "    for _ in range(num_simulations):\n",
    "        # Výpočet A*b_k\n",
    "        b_k1 = [sum(A[i][j] * b_k[j] for j in range(n)) for i in range(n)]\n",
    "\n",
    "        # Výpočet normy b_k1\n",
    "        norm = max(abs(b) for b in b_k1)\n",
    "\n",
    "        # Normalizace vektoru\n",
    "        b_k = [b/norm for b in b_k1]\n",
    "\n",
    "    return norm\n",
    "\n",
    "# Matice A\n",
    "A = [[0.5, 0.5], [0.2, 0.8]]\n",
    "\n",
    "zacatek_casu = time.time()\n",
    "vlastni_cislo = power_iteration(A, 1000)\n",
    "konec_casu = time.time()\n",
    "\n",
    "print(\"Čistý Python vlastní číslo:\", vlastni_cislo, \"Čas:\", konec_casu - zacatek_casu)\n"
   ]
  },
  {
   "cell_type": "code",
   "execution_count": 16,
   "metadata": {},
   "outputs": [
    {
     "name": "stdout",
     "output_type": "stream",
     "text": [
      "Numpy vlastní čísla: [0.3 1. ] Čas: 0.19883108139038086\n"
     ]
    }
   ],
   "source": [
    "import numpy as np\n",
    "import time\n",
    "\n",
    "# Matice A\n",
    "A = np.array([[0.5, 0.5], [0.2, 0.8]])\n",
    "\n",
    "zacatek_casu = time.time()\n",
    "vlastni_cisla, vlastni_vektory = np.linalg.eig(A)\n",
    "konec_casu = time.time()\n",
    "\n",
    "print(\"Numpy vlastní čísla:\", vlastni_cisla, \"Čas:\", konec_casu - zacatek_casu)\n"
   ]
  },
  {
   "cell_type": "markdown",
   "metadata": {},
   "source": [
    "Výpočet faktoriálu"
   ]
  },
  {
   "cell_type": "code",
   "execution_count": 17,
   "metadata": {},
   "outputs": [
    {
     "name": "stdout",
     "output_type": "stream",
     "text": [
      "Čistý Python faktoriál: 2432902008176640000 Čas: 0.00017642974853515625\n"
     ]
    }
   ],
   "source": [
    "import time\n",
    "\n",
    "def faktorial(n):\n",
    "    if n == 0:\n",
    "        return 1\n",
    "    else:\n",
    "        vysledek = 1\n",
    "        for i in range(2, n+1):\n",
    "            vysledek *= i\n",
    "        return vysledek\n",
    "\n",
    "# Číslo pro výpočet faktoriálu\n",
    "n = 20\n",
    "\n",
    "zacatek_casu = time.time()\n",
    "vysledek = faktorial(n)\n",
    "konec_casu = time.time()\n",
    "\n",
    "print(\"Čistý Python faktoriál:\", vysledek, \"Čas:\", konec_casu - zacatek_casu)\n"
   ]
  },
  {
   "cell_type": "code",
   "execution_count": 18,
   "metadata": {},
   "outputs": [
    {
     "name": "stdout",
     "output_type": "stream",
     "text": [
      "Numpy faktoriál: 2432902008176640000 Čas: 0.24797964096069336\n"
     ]
    }
   ],
   "source": [
    "import numpy as np\n",
    "import time\n",
    "\n",
    "def faktorial_numpy(n):\n",
    "    if n == 0:\n",
    "        return 1\n",
    "    else:\n",
    "        return np.prod(np.arange(1, n+1))\n",
    "\n",
    "# Číslo pro výpočet faktoriálu\n",
    "n = 20\n",
    "\n",
    "zacatek_casu = time.time()\n",
    "vysledek_numpy = faktorial_numpy(n)\n",
    "konec_casu = time.time()\n",
    "\n",
    "print(\"Numpy faktoriál:\", vysledek_numpy, \"Čas:\", konec_casu - zacatek_casu)\n"
   ]
  },
  {
   "cell_type": "code",
   "execution_count": 19,
   "metadata": {},
   "outputs": [
    {
     "name": "stdout",
     "output_type": "stream",
     "text": [
      "Numba faktoriál: 2432902008176640000 Čas: 1.4991068840026855\n"
     ]
    }
   ],
   "source": [
    "from numba import jit\n",
    "import time\n",
    "\n",
    "@jit(nopython=True)\n",
    "def faktorial_numba(n):\n",
    "    if n == 0:\n",
    "        return 1\n",
    "    else:\n",
    "        vysledek = 1\n",
    "        for i in range(2, n+1):\n",
    "            vysledek *= i\n",
    "        return vysledek\n",
    "\n",
    "zacatek_casu = time.time()\n",
    "vysledek_numba = faktorial_numba(n)\n",
    "konec_casu = time.time()\n",
    "\n",
    "print(\"Numba faktoriál:\", vysledek_numba, \"Čas:\", konec_casu - zacatek_casu)\n"
   ]
  },
  {
   "cell_type": "code",
   "execution_count": null,
   "metadata": {},
   "outputs": [],
   "source": []
  }
 ],
 "metadata": {
  "kernelspec": {
   "display_name": "Python 3",
   "language": "python",
   "name": "python3"
  },
  "language_info": {
   "codemirror_mode": {
    "name": "ipython",
    "version": 3
   },
   "file_extension": ".py",
   "mimetype": "text/x-python",
   "name": "python",
   "nbconvert_exporter": "python",
   "pygments_lexer": "ipython3",
   "version": "3.10.12"
  }
 },
 "nbformat": 4,
 "nbformat_minor": 2
}
